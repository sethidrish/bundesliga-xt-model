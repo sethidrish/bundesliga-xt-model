{
 "cells": [
  {
   "cell_type": "code",
   "execution_count": 1,
   "id": "c0290b81-a2e5-4577-8c00-c42adf8b3155",
   "metadata": {},
   "outputs": [
    {
     "name": "stderr",
     "output_type": "stream",
     "text": [
      "/opt/anaconda3/lib/python3.12/site-packages/statsbombpy/api_client.py:21: NoAuthWarning: credentials were not supplied. open data access only\n",
      "  warnings.warn(\n"
     ]
    },
    {
     "name": "stdout",
     "output_type": "stream",
     "text": [
      "--- Available Competitions ---\n",
      "    competition_id  season_id        competition_name season_name\n",
      "0                9        281           1. Bundesliga   2023/2024\n",
      "1                9         27           1. Bundesliga   2015/2016\n",
      "2             1267        107  African Cup of Nations        2023\n",
      "3               16          4        Champions League   2018/2019\n",
      "4               16          1        Champions League   2017/2018\n",
      "..             ...        ...                     ...         ...\n",
      "69              55         43               UEFA Euro        2020\n",
      "70              35         75      UEFA Europa League   1988/1989\n",
      "71              53        106       UEFA Women's Euro        2022\n",
      "72              72        107       Women's World Cup        2023\n",
      "73              72         30       Women's World Cup        2019\n",
      "\n",
      "[74 rows x 4 columns]\n"
     ]
    }
   ],
   "source": [
    "from statsbombpy import sb\n",
    "\n",
    "# Get a DataFrame of all available competitions\n",
    "competitions = sb.competitions()\n",
    "\n",
    "# Display the available competitions so you can choose\n",
    "print(\"--- Available Competitions ---\")\n",
    "print(competitions[['competition_id', 'season_id', 'competition_name', 'season_name']])"
   ]
  },
  {
   "cell_type": "code",
   "execution_count": 3,
   "id": "9b9e89c7-8edf-4b30-b2c7-45eed5203096",
   "metadata": {},
   "outputs": [
    {
     "name": "stderr",
     "output_type": "stream",
     "text": [
      "/opt/anaconda3/lib/python3.12/site-packages/statsbombpy/api_client.py:21: NoAuthWarning: credentials were not supplied. open data access only\n",
      "  warnings.warn(\n"
     ]
    },
    {
     "name": "stdout",
     "output_type": "stream",
     "text": [
      "Found 34 matches for Bundesliga 2023/2024. Fetching all event data now...\n",
      "This will take several minutes to run...\n"
     ]
    },
    {
     "name": "stderr",
     "output_type": "stream",
     "text": [
      "/opt/anaconda3/lib/python3.12/site-packages/statsbombpy/api_client.py:21: NoAuthWarning: credentials were not supplied. open data access only\n",
      "  warnings.warn(\n",
      "/opt/anaconda3/lib/python3.12/site-packages/statsbombpy/api_client.py:21: NoAuthWarning: credentials were not supplied. open data access only\n",
      "  warnings.warn(\n",
      "/opt/anaconda3/lib/python3.12/site-packages/statsbombpy/api_client.py:21: NoAuthWarning: credentials were not supplied. open data access only\n",
      "  warnings.warn(\n",
      "/opt/anaconda3/lib/python3.12/site-packages/statsbombpy/api_client.py:21: NoAuthWarning: credentials were not supplied. open data access only\n",
      "  warnings.warn(\n",
      "/opt/anaconda3/lib/python3.12/site-packages/statsbombpy/api_client.py:21: NoAuthWarning: credentials were not supplied. open data access only\n",
      "  warnings.warn(\n",
      "/opt/anaconda3/lib/python3.12/site-packages/statsbombpy/api_client.py:21: NoAuthWarning: credentials were not supplied. open data access only\n",
      "  warnings.warn(\n",
      "/opt/anaconda3/lib/python3.12/site-packages/statsbombpy/api_client.py:21: NoAuthWarning: credentials were not supplied. open data access only\n",
      "  warnings.warn(\n",
      "/opt/anaconda3/lib/python3.12/site-packages/statsbombpy/api_client.py:21: NoAuthWarning: credentials were not supplied. open data access only\n",
      "  warnings.warn(\n",
      "/opt/anaconda3/lib/python3.12/site-packages/statsbombpy/api_client.py:21: NoAuthWarning: credentials were not supplied. open data access only\n",
      "  warnings.warn(\n",
      "/opt/anaconda3/lib/python3.12/site-packages/statsbombpy/api_client.py:21: NoAuthWarning: credentials were not supplied. open data access only\n",
      "  warnings.warn(\n",
      "/opt/anaconda3/lib/python3.12/site-packages/statsbombpy/api_client.py:21: NoAuthWarning: credentials were not supplied. open data access only\n",
      "  warnings.warn(\n",
      "/opt/anaconda3/lib/python3.12/site-packages/statsbombpy/api_client.py:21: NoAuthWarning: credentials were not supplied. open data access only\n",
      "  warnings.warn(\n",
      "/opt/anaconda3/lib/python3.12/site-packages/statsbombpy/api_client.py:21: NoAuthWarning: credentials were not supplied. open data access only\n",
      "  warnings.warn(\n",
      "/opt/anaconda3/lib/python3.12/site-packages/statsbombpy/api_client.py:21: NoAuthWarning: credentials were not supplied. open data access only\n",
      "  warnings.warn(\n",
      "/opt/anaconda3/lib/python3.12/site-packages/statsbombpy/api_client.py:21: NoAuthWarning: credentials were not supplied. open data access only\n",
      "  warnings.warn(\n",
      "/opt/anaconda3/lib/python3.12/site-packages/statsbombpy/api_client.py:21: NoAuthWarning: credentials were not supplied. open data access only\n",
      "  warnings.warn(\n",
      "/opt/anaconda3/lib/python3.12/site-packages/statsbombpy/api_client.py:21: NoAuthWarning: credentials were not supplied. open data access only\n",
      "  warnings.warn(\n",
      "/opt/anaconda3/lib/python3.12/site-packages/statsbombpy/api_client.py:21: NoAuthWarning: credentials were not supplied. open data access only\n",
      "  warnings.warn(\n",
      "/opt/anaconda3/lib/python3.12/site-packages/statsbombpy/api_client.py:21: NoAuthWarning: credentials were not supplied. open data access only\n",
      "  warnings.warn(\n",
      "/opt/anaconda3/lib/python3.12/site-packages/statsbombpy/api_client.py:21: NoAuthWarning: credentials were not supplied. open data access only\n",
      "  warnings.warn(\n",
      "/opt/anaconda3/lib/python3.12/site-packages/statsbombpy/api_client.py:21: NoAuthWarning: credentials were not supplied. open data access only\n",
      "  warnings.warn(\n",
      "/opt/anaconda3/lib/python3.12/site-packages/statsbombpy/api_client.py:21: NoAuthWarning: credentials were not supplied. open data access only\n",
      "  warnings.warn(\n",
      "/opt/anaconda3/lib/python3.12/site-packages/statsbombpy/api_client.py:21: NoAuthWarning: credentials were not supplied. open data access only\n",
      "  warnings.warn(\n",
      "/opt/anaconda3/lib/python3.12/site-packages/statsbombpy/api_client.py:21: NoAuthWarning: credentials were not supplied. open data access only\n",
      "  warnings.warn(\n",
      "/opt/anaconda3/lib/python3.12/site-packages/statsbombpy/api_client.py:21: NoAuthWarning: credentials were not supplied. open data access only\n",
      "  warnings.warn(\n",
      "/opt/anaconda3/lib/python3.12/site-packages/statsbombpy/api_client.py:21: NoAuthWarning: credentials were not supplied. open data access only\n",
      "  warnings.warn(\n",
      "/opt/anaconda3/lib/python3.12/site-packages/statsbombpy/api_client.py:21: NoAuthWarning: credentials were not supplied. open data access only\n",
      "  warnings.warn(\n",
      "/opt/anaconda3/lib/python3.12/site-packages/statsbombpy/api_client.py:21: NoAuthWarning: credentials were not supplied. open data access only\n",
      "  warnings.warn(\n",
      "/opt/anaconda3/lib/python3.12/site-packages/statsbombpy/api_client.py:21: NoAuthWarning: credentials were not supplied. open data access only\n",
      "  warnings.warn(\n",
      "/opt/anaconda3/lib/python3.12/site-packages/statsbombpy/api_client.py:21: NoAuthWarning: credentials were not supplied. open data access only\n",
      "  warnings.warn(\n",
      "/opt/anaconda3/lib/python3.12/site-packages/statsbombpy/api_client.py:21: NoAuthWarning: credentials were not supplied. open data access only\n",
      "  warnings.warn(\n",
      "/opt/anaconda3/lib/python3.12/site-packages/statsbombpy/api_client.py:21: NoAuthWarning: credentials were not supplied. open data access only\n",
      "  warnings.warn(\n",
      "/opt/anaconda3/lib/python3.12/site-packages/statsbombpy/api_client.py:21: NoAuthWarning: credentials were not supplied. open data access only\n",
      "  warnings.warn(\n",
      "/opt/anaconda3/lib/python3.12/site-packages/statsbombpy/api_client.py:21: NoAuthWarning: credentials were not supplied. open data access only\n",
      "  warnings.warn(\n"
     ]
    },
    {
     "name": "stdout",
     "output_type": "stream",
     "text": [
      "✅ SUCCESS! Loaded data for the full season.\n",
      "Total events in the dataset: 137765\n",
      "\n",
      "--- Sample of the Full Event Dataset ---\n",
      "               team player         type location\n",
      "0  Bayer Leverkusen    NaN  Starting XI      NaN\n",
      "1     Werder Bremen    NaN  Starting XI      NaN\n",
      "2  Bayer Leverkusen    NaN   Half Start      NaN\n",
      "3     Werder Bremen    NaN   Half Start      NaN\n",
      "4  Bayer Leverkusen    NaN   Half Start      NaN\n"
     ]
    }
   ],
   "source": [
    "import pandas as pd\n",
    "from statsbombpy import sb\n",
    "\n",
    "# IDs for the Bundesliga 2023/2024 season\n",
    "COMP_ID = 9\n",
    "SEASON_ID = 281\n",
    "\n",
    "# Get all the matches from your chosen season\n",
    "matches = sb.matches(competition_id=COMP_ID, season_id=SEASON_ID)\n",
    "\n",
    "# Get the list of all match IDs\n",
    "match_ids = matches['match_id'].tolist()\n",
    "\n",
    "print(f\"Found {len(match_ids)} matches for Bundesliga 2023/2024. Fetching all event data now...\")\n",
    "print(\"This will take several minutes to run...\")\n",
    "\n",
    "# Use a list comprehension to get all events from all matches\n",
    "all_events = [sb.events(match_id=m) for m in match_ids]\n",
    "\n",
    "# Concatenate all the separate match DataFrames into one large DataFrame\n",
    "df_all_events = pd.concat(all_events)\n",
    "\n",
    "print(f\"✅ SUCCESS! Loaded data for the full season.\")\n",
    "print(f\"Total events in the dataset: {len(df_all_events)}\")\n",
    "print(\"\\n--- Sample of the Full Event Dataset ---\")\n",
    "print(df_all_events[['team', 'player', 'type', 'location']].head())"
   ]
  },
  {
   "cell_type": "code",
   "execution_count": 5,
   "id": "dda68d13-d668-4e58-b96e-30929dfadaca",
   "metadata": {},
   "outputs": [
    {
     "name": "stdout",
     "output_type": "stream",
     "text": [
      "✅ SUCCESS! Actions DataFrame created with start and end coordinates.\n",
      "Total actions to analyze: 41043\n",
      "\n",
      "--- Sample of Processed Pass Data ---\n",
      "             team           player  type  x_start  y_start  x_end  y_end\n",
      "6   Werder Bremen   Nick Woltemade  Pass     61.0     40.1   59.0   40.9\n",
      "7   Werder Bremen   Marvin Ducksch  Pass     59.0     40.6   35.1   43.2\n",
      "8   Werder Bremen   Christian Groß  Pass     35.1     43.7   33.2   63.8\n",
      "9   Werder Bremen  Julián Malatini  Pass     32.7     65.3   44.5   77.8\n",
      "10  Werder Bremen  Mitchell Weiser  Pass     44.5     77.5   62.2   65.8\n"
     ]
    }
   ],
   "source": [
    "import pandas as pd\n",
    "import numpy as np\n",
    "\n",
    "# --- Step 1: Filter for relevant actions ---\n",
    "# We are interested in actions where a player is in control of the ball.\n",
    "df_actions = df_all_events[df_all_events['type'].isin(['Pass', 'Dribble', 'Shot'])].copy()\n",
    "\n",
    "\n",
    "# --- Step 2: Extract Start Coordinates ---\n",
    "# The 'location' column is a list [x, y], so we split it into two new columns.\n",
    "# We use .apply() and a lambda function for this.\n",
    "df_actions['x_start'] = df_actions['location'].apply(lambda loc: loc[0])\n",
    "df_actions['y_start'] = df_actions['location'].apply(lambda loc: loc[1])\n",
    "\n",
    "\n",
    "# --- Step 3: Extract End Coordinates for Passes ---\n",
    "# The 'pass_end_location' column only exists for passes.\n",
    "# We check if the value is a list before trying to split it. If not, we put NaN (np.nan).\n",
    "df_actions['x_end'] = df_actions['pass_end_location'].apply(lambda loc: loc[0] if isinstance(loc, list) else np.nan)\n",
    "df_actions['y_end'] = df_actions['pass_end_location'].apply(lambda loc: loc[1] if isinstance(loc, list) else np.nan)\n",
    "\n",
    "\n",
    "print(\"✅ SUCCESS! Actions DataFrame created with start and end coordinates.\")\n",
    "print(f\"Total actions to analyze: {len(df_actions)}\")\n",
    "\n",
    "# Display a sample of the new columns for Pass events to verify\n",
    "print(\"\\n--- Sample of Processed Pass Data ---\")\n",
    "print(df_actions[df_actions['type'] == 'Pass'][['team', 'player', 'type', 'x_start', 'y_start', 'x_end', 'y_end']].head())"
   ]
  },
  {
   "cell_type": "code",
   "execution_count": 7,
   "id": "e3e92eda-03ad-445a-b007-fad90011dcd2",
   "metadata": {},
   "outputs": [
    {
     "name": "stdout",
     "output_type": "stream",
     "text": [
      "✅ Zones assigned to every action.\n",
      "    type  start_zone  end_zone\n",
      "6   Pass         102      90.0\n",
      "7   Pass          90      54.0\n",
      "8   Pass          54      57.0\n",
      "9   Pass          57      71.0\n",
      "10  Pass          71     105.0\n"
     ]
    }
   ],
   "source": [
    "# Define the number of zones for the grid\n",
    "X_BINS = 16\n",
    "Y_BINS = 12\n",
    "PITCH_LENGTH = 120\n",
    "PITCH_WIDTH = 80\n",
    "\n",
    "# Assign a start zone to every action\n",
    "df_actions['x_start_bin'] = pd.cut(df_actions['x_start'], bins=X_BINS, labels=False)\n",
    "df_actions['y_start_bin'] = pd.cut(df_actions['y_start'], bins=Y_BINS, labels=False)\n",
    "df_actions['start_zone'] = df_actions['x_start_bin'] * Y_BINS + df_actions['y_start_bin']\n",
    "\n",
    "# Assign an end zone for passes\n",
    "df_actions['x_end_bin'] = pd.cut(df_actions['x_end'], bins=X_BINS, labels=False)\n",
    "df_actions['y_end_bin'] = pd.cut(df_actions['y_end'], bins=Y_BINS, labels=False)\n",
    "df_actions['end_zone'] = df_actions['x_end_bin'] * Y_BINS + df_actions['y_end_bin']\n",
    "\n",
    "print(\"✅ Zones assigned to every action.\")\n",
    "print(df_actions[['type', 'start_zone', 'end_zone']].head())"
   ]
  },
  {
   "cell_type": "code",
   "execution_count": 9,
   "id": "5b7142c4-57b0-4f60-94a1-624c812199d0",
   "metadata": {},
   "outputs": [
    {
     "name": "stdout",
     "output_type": "stream",
     "text": [
      "\n",
      "✅ Probabilities calculated!\n",
      "\n",
      "--- Sample of Shot Probabilities (Zone: Probability) ---\n",
      "start_zone\n",
      "0    0.0\n",
      "1    0.0\n",
      "2    0.0\n",
      "3    0.0\n",
      "4    0.0\n",
      "Name: type, dtype: float64\n",
      "\n",
      "--- Sample of Move Transition Matrix ---\n",
      "end_zone         0         1         2         3         4         5    \\\n",
      "start_zone                                                               \n",
      "0           0.121951  0.073171  0.097561  0.000000  0.024390  0.000000   \n",
      "1           0.075472  0.094340  0.018868  0.037736  0.037736  0.000000   \n",
      "2           0.078947  0.000000  0.000000  0.026316  0.052632  0.000000   \n",
      "3           0.025000  0.012500  0.012500  0.025000  0.025000  0.025000   \n",
      "4           0.000000  0.013889  0.000000  0.013889  0.000000  0.222222   \n",
      "\n",
      "end_zone         6         7    8    9    ...  182  183  184  185  186  187  \\\n",
      "start_zone                                ...                                 \n",
      "0           0.000000  0.000000  0.0  0.0  ...  0.0  0.0  0.0  0.0  0.0  0.0   \n",
      "1           0.000000  0.000000  0.0  0.0  ...  0.0  0.0  0.0  0.0  0.0  0.0   \n",
      "2           0.000000  0.000000  0.0  0.0  ...  0.0  0.0  0.0  0.0  0.0  0.0   \n",
      "3           0.012500  0.000000  0.0  0.0  ...  0.0  0.0  0.0  0.0  0.0  0.0   \n",
      "4           0.097222  0.006944  0.0  0.0  ...  0.0  0.0  0.0  0.0  0.0  0.0   \n",
      "\n",
      "end_zone    188  189  190  191  \n",
      "start_zone                      \n",
      "0           0.0  0.0  0.0  0.0  \n",
      "1           0.0  0.0  0.0  0.0  \n",
      "2           0.0  0.0  0.0  0.0  \n",
      "3           0.0  0.0  0.0  0.0  \n",
      "4           0.0  0.0  0.0  0.0  \n",
      "\n",
      "[5 rows x 192 columns]\n"
     ]
    }
   ],
   "source": [
    "# --- Calculate Shot Probability for each zone ---\n",
    "# Group by zone and count the number of shots vs. total actions\n",
    "shot_probs = df_actions.groupby('start_zone')['type'].apply(lambda x: (x == 'Shot').sum() / len(x))\n",
    "\n",
    "# --- Calculate Move Probability (Transition Matrix) ---\n",
    "# First, filter for successful moves (we'll consider completed passes for now)\n",
    "df_moves = df_actions[df_actions['type'] == 'Pass'].copy()\n",
    "# Drop any moves that don't have a valid end zone\n",
    "df_moves.dropna(subset=['end_zone'], inplace=True)\n",
    "df_moves['end_zone'] = df_moves['end_zone'].astype(int)\n",
    "\n",
    "# Create the transition matrix using crosstab\n",
    "# This calculates the probability of moving from a start_zone to an end_zone\n",
    "transition_matrix = pd.crosstab(df_moves['start_zone'], df_moves['end_zone'], normalize='index')\n",
    "\n",
    "\n",
    "print(\"\\n✅ Probabilities calculated!\")\n",
    "print(\"\\n--- Sample of Shot Probabilities (Zone: Probability) ---\")\n",
    "print(shot_probs.head())\n",
    "print(\"\\n--- Sample of Move Transition Matrix ---\")\n",
    "print(transition_matrix.head())"
   ]
  },
  {
   "cell_type": "code",
   "execution_count": 11,
   "id": "2d468693-40d7-4f25-8cb6-c47d82c44313",
   "metadata": {},
   "outputs": [],
   "source": [
    "# Filter for only shot events\n",
    "df_shots = df_actions[df_actions['type'] == 'Shot'].copy()\n",
    "\n",
    "# Group by zone and get the average xG\n",
    "# We'll fill zones with no shots with 0.\n",
    "shot_xG = df_shots.groupby('start_zone')['shot_statsbomb_xg'].mean().fillna(0)"
   ]
  },
  {
   "cell_type": "code",
   "execution_count": 13,
   "id": "6e7a8d5e-5422-4fc6-b51a-28b2ee68bc97",
   "metadata": {},
   "outputs": [],
   "source": [
    "# Initialize our xT grid with zeros\n",
    "num_zones = X_BINS * Y_BINS\n",
    "xt_grid = np.zeros(num_zones)\n",
    "\n",
    "# The probability of not shooting is 1 - shot_probability\n",
    "move_probs = 1 - shot_probs.reindex(range(num_zones), fill_value=0)\n",
    "\n",
    "# The expected threat from shooting in a zone\n",
    "shot_threat = shot_probs.reindex(range(num_zones), fill_value=0) * shot_xG.reindex(range(num_zones), fill_value=0)\n",
    "\n",
    "# Iteratively calculate the xT values\n",
    "for i in range(10):\n",
    "    # The expected threat from moving is the probability of moving to each zone multiplied by the current xT value of that zone\n",
    "    # We use a dot product of our transition matrix and the current xT grid\n",
    "    move_threat = np.dot(transition_matrix.reindex(range(num_zones), fill_value=0).reindex(range(num_zones), axis=1, fill_value=0), xt_grid)\n",
    "    \n",
    "    # The new xT value is the threat from shooting plus the threat from moving (weighted by the probability of each)\n",
    "    xt_grid = shot_threat + (move_probs * move_threat)"
   ]
  },
  {
   "cell_type": "code",
   "execution_count": 17,
   "id": "a5ef51db-b338-46f0-aad0-2db8cd5bd922",
   "metadata": {},
   "outputs": [
    {
     "data": {
      "image/png": "[encoded data removed]",
      "text/plain": [
       "<Figure size 1400x900 with 2 Axes>"
      ]
     },
     "metadata": {},
     "output_type": "display_data"
    }
   ],
   "source": [
    "import matplotlib.pyplot as plt\n",
    "import seaborn as sns\n",
    "from mplsoccer import Pitch\n",
    "import numpy as np\n",
    "\n",
    "# --- THIS IS THE FIX ---\n",
    "# Convert the xt_grid from a pandas Series to a NumPy array before reshaping\n",
    "xt_grid_2d = xt_grid.to_numpy().reshape(X_BINS, Y_BINS)\n",
    "\n",
    "\n",
    "# --- Create the Plot ---\n",
    "# Set up the pitch using mplsoccer\n",
    "pitch = Pitch(pitch_type='statsbomb', pitch_color='#22312b', line_color='#c7d5cc')\n",
    "fig, ax = pitch.draw(figsize=(14, 9), constrained_layout=False, tight_layout=True)\n",
    "fig.set_facecolor('#22312b')\n",
    "\n",
    "# Use seaborn to plot the heatmap of our xT grid.\n",
    "# We flip the grid vertically for the correct pitch orientation (goal at the top).\n",
    "sns.heatmap(np.flipud(xt_grid_2d.T), cmap='viridis', annot=False, ax=ax)\n",
    "\n",
    "ax.set_title('Expected Threat (xT) Surface - Bundesliga 2023/2024', color='white', size=20)\n",
    "plt.show()"
   ]
  },
  {
   "cell_type": "code",
   "execution_count": 19,
   "id": "a0962dff-482e-4b53-b681-631ee2beca0e",
   "metadata": {},
   "outputs": [
    {
     "name": "stdout",
     "output_type": "stream",
     "text": [
      "✅ SUCCESS! Player rankings have been calculated.\n",
      "\n",
      "--- Top 15 Most Threatening Players (by xT Added) ---\n",
      "player\n",
      "Granit Xhaka                   20.536774\n",
      "Edmond Fayçal Tapsoba          18.002298\n",
      "Jonathan Tah                   15.342431\n",
      "Alejandro Grimaldo García      11.852804\n",
      "Odilon Kossonou                 9.956863\n",
      "Robert Andrich                  9.074251\n",
      "Piero Martín Hincapié Reyna     8.640983\n",
      "Florian Wirtz                   8.146576\n",
      "Exequiel Alejandro Palacios     7.837350\n",
      "Lukáš Hrádecký                  5.953892\n",
      "Josip Stanišić                  5.569039\n",
      "Jonas Hofmann                   3.910103\n",
      "Manuel Riemann                  3.480115\n",
      "Jeremie Frimpong                2.199552\n",
      "Eric Dier                       1.818595\n",
      "Name: xt_added, dtype: float64\n"
     ]
    }
   ],
   "source": [
    "# Calculate the xT Added for every pass\n",
    "# We only look at passes that have a valid start and end zone\n",
    "df_passes = df_actions[df_actions['type'] == 'Pass'].dropna(subset=['start_zone', 'end_zone'])\n",
    "\n",
    "# Look up the xT value for the start and end zone of each pass\n",
    "xt_start = xt_grid[df_passes['start_zone'].astype(int)].values\n",
    "xt_end = xt_grid[df_passes['end_zone'].astype(int)].values\n",
    "\n",
    "# xT Added is the difference between the end and start threat\n",
    "df_passes['xt_added'] = xt_end - xt_start\n",
    "\n",
    "# --- Generate the Player Leaderboard ---\n",
    "# Group by player and sum their total xT Added over the season\n",
    "player_xt = df_passes.groupby('player')['xt_added'].sum().sort_values(ascending=False)\n",
    "\n",
    "print(\"✅ SUCCESS! Player rankings have been calculated.\")\n",
    "print(\"\\n--- Top 15 Most Threatening Players (by xT Added) ---\")\n",
    "print(player_xt.head(15))"
   ]
  },
  {
   "cell_type": "code",
   "execution_count": null,
   "id": "1e756e0a-d9fb-4354-bf66-816deebd86a8",
   "metadata": {},
   "outputs": [],
   "source": []
  }
 ],
 "metadata": {
  "kernelspec": {
   "display_name": "Python [conda env:base] *",
   "language": "python",
   "name": "conda-base-py"
  },
  "language_info": {
   "codemirror_mode": {
    "name": "ipython",
    "version": 3
   },
   "file_extension": ".py",
   "mimetype": "text/x-python",
   "name": "python",
   "nbconvert_exporter": "python",
   "pygments_lexer": "ipython3",
   "version": "3.12.7"
  }
 },
 "nbformat": 4,
 "nbformat_minor": 5
}
